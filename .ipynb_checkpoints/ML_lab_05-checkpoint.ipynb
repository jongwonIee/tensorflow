{
 "cells": [
  {
   "cell_type": "code",
   "execution_count": null,
   "metadata": {
    "collapsed": true
   },
   "outputs": [],
   "source": [
    "'''Logistic Classification'''"
   ]
  },
  {
   "cell_type": "code",
   "execution_count": 4,
   "metadata": {
    "collapsed": true
   },
   "outputs": [],
   "source": [
    "import tensorflow as tf"
   ]
  },
  {
   "cell_type": "code",
   "execution_count": 5,
   "metadata": {
    "collapsed": false
   },
   "outputs": [],
   "source": [
    "x_data = [[1, 2], [2, 3], [3, 1], [4, 3], [5, 3], [6, 2]] #ex) 1 hour of time, 2 videos\n",
    "y_data = [[0], [0], [0], [1], [1], [1]]"
   ]
  },
  {
   "cell_type": "code",
   "execution_count": 6,
   "metadata": {
    "collapsed": false
   },
   "outputs": [],
   "source": [
    "X = tf.placeholder(tf.float32, shape=[None, 2])\n",
    "Y = tf.placeholder(tf.float32, shape=[None, 1])"
   ]
  },
  {
   "cell_type": "code",
   "execution_count": 8,
   "metadata": {
    "collapsed": false
   },
   "outputs": [],
   "source": [
    "W = tf.Variable(tf.random_normal([2, 1]), name='weight')\n",
    "b = tf.Variable(tf.random_normal([1]), name='bias')"
   ]
  },
  {
   "cell_type": "code",
   "execution_count": 9,
   "metadata": {
    "collapsed": true
   },
   "outputs": [],
   "source": [
    "hypothesis = tf.sigmoid(tf.matmul(X, W) + b)"
   ]
  },
  {
   "cell_type": "code",
   "execution_count": 10,
   "metadata": {
    "collapsed": true
   },
   "outputs": [],
   "source": [
    "cost = -tf.reduce_mean(Y * tf.log(hypothesis) + (1 - Y) * tf.log(1 - hypothesis))"
   ]
  },
  {
   "cell_type": "code",
   "execution_count": 11,
   "metadata": {
    "collapsed": true
   },
   "outputs": [],
   "source": [
    "train = tf.train.GradientDescentOptimizer(learning_rate=0.01).minimize(cost)"
   ]
  },
  {
   "cell_type": "code",
   "execution_count": 12,
   "metadata": {
    "collapsed": true
   },
   "outputs": [],
   "source": [
    "# Accuracy computation\n",
    "# True if hypothesis>0.5 else False\n",
    "predicted = tf.cast(hypothesis > 0.5, dtype=tf.float32)\n",
    "accuracy = tf.reduce_mean(tf.cast(tf.equal(predicted, Y), dtype=tf.float32))"
   ]
  },
  {
   "cell_type": "code",
   "execution_count": 13,
   "metadata": {
    "collapsed": false,
    "scrolled": true
   },
   "outputs": [
    {
     "name": "stdout",
     "output_type": "stream",
     "text": [
      "0 0.877398\n",
      "200 0.573547\n",
      "400 0.469147\n",
      "600 0.421452\n",
      "800 0.394203\n",
      "1000 0.375402\n",
      "1200 0.360613\n",
      "1400 0.347992\n",
      "1600 0.336697\n",
      "1800 0.326314\n",
      "2000 0.316623\n",
      "2200 0.307497\n",
      "2400 0.298859\n",
      "2600 0.290658\n",
      "2800 0.282856\n",
      "3000 0.275424\n",
      "3200 0.268336\n",
      "3400 0.261571\n",
      "3600 0.255109\n",
      "3800 0.248933\n",
      "4000 0.243027\n",
      "4200 0.237375\n",
      "4400 0.231963\n",
      "4600 0.226777\n",
      "4800 0.221805\n",
      "5000 0.217035\n",
      "5200 0.212457\n",
      "5400 0.20806\n",
      "5600 0.203834\n",
      "5800 0.19977\n",
      "6000 0.19586\n",
      "6200 0.192096\n",
      "6400 0.18847\n",
      "6600 0.184975\n",
      "6800 0.181605\n",
      "7000 0.178353\n",
      "7200 0.175214\n",
      "7400 0.172183\n",
      "7600 0.169253\n",
      "7800 0.16642\n",
      "8000 0.163681\n",
      "8200 0.161029\n",
      "8400 0.158462\n",
      "8600 0.155975\n",
      "8800 0.153565\n",
      "9000 0.151229\n",
      "9200 0.148962\n",
      "9400 0.146763\n",
      "9600 0.144629\n",
      "9800 0.142556\n",
      "10000 0.140542\n"
     ]
    }
   ],
   "source": [
    "with tf.Session() as sess:\n",
    "    sess.run(tf.global_variables_initializer())\n",
    "    \n",
    "    for step in range(10001):\n",
    "        cost_val, _ = sess.run([cost, train], feed_dict={X: x_data, Y: y_data})\n",
    "        \n",
    "        if step % 200 == 0:\n",
    "            print(step, cost_val)\n",
    "            \n",
    "    # Accuracy report\n",
    "    h, c, a = sess.run([hypothesis, predicted, accuracy],\n",
    "                      feed_dict={X: x_data, Y: y_data})"
   ]
  },
  {
   "cell_type": "code",
   "execution_count": 15,
   "metadata": {
    "collapsed": false
   },
   "outputs": [
    {
     "name": "stdout",
     "output_type": "stream",
     "text": [
      "\n",
      "Hypothesis:  [[ 0.02706581]\n",
      " [ 0.15354824]\n",
      " [ 0.28676856]\n",
      " [ 0.78977609]\n",
      " [ 0.94474113]\n",
      " [ 0.98191619]] \n",
      "Correct (Y):  \n",
      "Accuracy:  1.0\n"
     ]
    }
   ],
   "source": [
    "print(\"\\nHypothesis: \", h, \"\\nCorrect (Y): \", \"\\nAccuracy: \", a)"
   ]
  },
  {
   "cell_type": "code",
   "execution_count": 16,
   "metadata": {
    "collapsed": false
   },
   "outputs": [
    {
     "data": {
      "text/plain": [
       "'diabetes'"
      ]
     },
     "execution_count": 16,
     "metadata": {},
     "output_type": "execute_result"
    }
   ],
   "source": [
    "'''diabetes'''"
   ]
  },
  {
   "cell_type": "code",
   "execution_count": 18,
   "metadata": {
    "collapsed": true
   },
   "outputs": [],
   "source": [
    "import numpy as np"
   ]
  },
  {
   "cell_type": "code",
   "execution_count": 31,
   "metadata": {
    "collapsed": false
   },
   "outputs": [],
   "source": [
    "xy = np.loadtxt('data-03-diabetes.csv', delimiter=',', dtype=np.float32)"
   ]
  },
  {
   "cell_type": "code",
   "execution_count": 38,
   "metadata": {
    "collapsed": true
   },
   "outputs": [],
   "source": [
    "x_data = xy[:, 0:-1]\n",
    "y_data = xy[:, [-1]]"
   ]
  },
  {
   "cell_type": "code",
   "execution_count": 39,
   "metadata": {
    "collapsed": true
   },
   "outputs": [],
   "source": [
    "X = tf.placeholder(tf.float32, shape=[None, 8])\n",
    "Y = tf.placeholder(tf.float32, shape=[None, 1])"
   ]
  },
  {
   "cell_type": "code",
   "execution_count": 40,
   "metadata": {
    "collapsed": true
   },
   "outputs": [],
   "source": [
    "W = tf.Variable(tf.random_normal([8, 1]), name='weight')\n",
    "b = tf.Variable(tf.random_normal([1]), name='bias')"
   ]
  },
  {
   "cell_type": "code",
   "execution_count": 41,
   "metadata": {
    "collapsed": true
   },
   "outputs": [],
   "source": [
    "hypothesis = tf.sigmoid(tf.matmul(X, W) + b)"
   ]
  },
  {
   "cell_type": "code",
   "execution_count": 42,
   "metadata": {
    "collapsed": false
   },
   "outputs": [],
   "source": [
    "cost = -tf.reduce_mean(Y * tf.log(hypothesis) + (1 - Y) * tf.log(1 - hypothesis))\n",
    "train = tf.train.GradientDescentOptimizer(learning_rate=0.01).minimize(cost)"
   ]
  },
  {
   "cell_type": "code",
   "execution_count": 43,
   "metadata": {
    "collapsed": true
   },
   "outputs": [],
   "source": [
    "predicted = tf.cast(hypothesis > 0.5, dtype=tf.float32)\n",
    "accuracy = tf.reduce_mean(tf.cast(tf.equal(predicted, Y), dtype=tf.float32))"
   ]
  },
  {
   "cell_type": "code",
   "execution_count": 44,
   "metadata": {
    "collapsed": false,
    "scrolled": true
   },
   "outputs": [
    {
     "name": "stdout",
     "output_type": "stream",
     "text": [
      "0 0.620784\n",
      "200 0.60048\n",
      "400 0.586243\n",
      "600 0.574394\n",
      "800 0.564095\n",
      "1000 0.555053\n",
      "1200 0.547091\n",
      "1400 0.540065\n",
      "1600 0.533854\n",
      "1800 0.528351\n",
      "2000 0.523466\n",
      "2200 0.519118\n",
      "2400 0.51524\n",
      "2600 0.511772\n",
      "2800 0.508663\n",
      "3000 0.505869\n",
      "3200 0.503352\n",
      "3400 0.501078\n",
      "3600 0.49902\n",
      "3800 0.497153\n",
      "4000 0.495454\n",
      "4200 0.493905\n",
      "4400 0.492491\n",
      "4600 0.491195\n",
      "4800 0.490007\n",
      "5000 0.488914\n",
      "5200 0.487908\n",
      "5400 0.486979\n",
      "5600 0.486121\n",
      "5800 0.485326\n",
      "6000 0.484589\n",
      "6200 0.483904\n",
      "6400 0.483267\n",
      "6600 0.482673\n",
      "6800 0.482119\n",
      "7000 0.481601\n",
      "7200 0.481117\n",
      "7400 0.480663\n",
      "7600 0.480238\n",
      "7800 0.479838\n",
      "8000 0.479463\n",
      "8200 0.47911\n",
      "8400 0.478777\n",
      "8600 0.478463\n",
      "8800 0.478168\n",
      "9000 0.477888\n",
      "9200 0.477624\n",
      "9400 0.477374\n",
      "9600 0.477138\n",
      "9800 0.476914\n",
      "10000 0.476701\n"
     ]
    }
   ],
   "source": [
    "with tf.Session() as sess:\n",
    "    sess.run(tf.global_variables_initializer())\n",
    "    \n",
    "    feed = {X: x_data, Y: y_data}\n",
    "    for step in range(10001):\n",
    "        sess.run(train, feed_dict=feed)\n",
    "        if step % 200 == 0:\n",
    "            print(step, sess.run(cost, feed_dict=feed))"
   ]
  },
  {
   "cell_type": "code",
   "execution_count": null,
   "metadata": {
    "collapsed": true
   },
   "outputs": [],
   "source": [
    "'''kagle.com'''"
   ]
  }
 ],
 "metadata": {
  "kernelspec": {
   "display_name": "Python 3",
   "language": "python",
   "name": "python3"
  },
  "language_info": {
   "codemirror_mode": {
    "name": "ipython",
    "version": 3
   },
   "file_extension": ".py",
   "mimetype": "text/x-python",
   "name": "python",
   "nbconvert_exporter": "python",
   "pygments_lexer": "ipython3",
   "version": "3.5.1"
  }
 },
 "nbformat": 4,
 "nbformat_minor": 1
}
