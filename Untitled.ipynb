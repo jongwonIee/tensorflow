{
 "cells": [
  {
   "cell_type": "code",
   "execution_count": 1,
   "metadata": {
    "collapsed": false
   },
   "outputs": [
    {
     "ename": "ImportError",
     "evalue": "No module named 'gym_super_mario_bros'",
     "output_type": "error",
     "traceback": [
      "\u001b[0;31m---------------------------------------------------------------------------\u001b[0m",
      "\u001b[0;31mImportError\u001b[0m                               Traceback (most recent call last)",
      "\u001b[0;32m<ipython-input-1-1b5a16bf68e5>\u001b[0m in \u001b[0;36m<module>\u001b[0;34m()\u001b[0m\n\u001b[1;32m      1\u001b[0m \u001b[0;31m#import retro\u001b[0m\u001b[0;34m\u001b[0m\u001b[0;34m\u001b[0m\u001b[0m\n\u001b[1;32m      2\u001b[0m \u001b[0;34m\u001b[0m\u001b[0m\n\u001b[0;32m----> 3\u001b[0;31m \u001b[0;32mimport\u001b[0m \u001b[0mgym_super_mario_bros\u001b[0m\u001b[0;34m\u001b[0m\u001b[0m\n\u001b[0m\u001b[1;32m      4\u001b[0m \u001b[0;32mimport\u001b[0m \u001b[0mlogging\u001b[0m\u001b[0;34m\u001b[0m\u001b[0m\n\u001b[1;32m      5\u001b[0m \u001b[0;32mimport\u001b[0m \u001b[0mgym\u001b[0m\u001b[0;34m\u001b[0m\u001b[0m\n",
      "\u001b[0;31mImportError\u001b[0m: No module named 'gym_super_mario_bros'"
     ]
    }
   ],
   "source": [
    "#import retro\n",
    "\n",
    "import gym_super_mario_bros\n",
    "import logging\n",
    "import gym\n",
    "import gym_super_mario_bros\n",
    "import numpy as np\n",
    "import sys\n",
    "from nes_py.wrappers import BinarySpaceToDiscreteSpaceEnv\n",
    "import random\n",
    "from stable_baselines.ppo2.ppo2 import PPO2\n",
    "\n",
    "from stable_baselines import PPO2\n",
    "from stable_baselines.common.policies import CnnPolicy\n",
    "from stable_baselines.common.vec_env import DummyVecEnv\n",
    "\n",
    "movements = [\n",
    "    ['NOP'],\n",
    "    ['A'],\n",
    "    ['B'],\n",
    "    ['right'],\n",
    "    ['right', 'A'],\n",
    "    ['right', 'B'],\n",
    "    ['right', 'A', 'B'],\n",
    "    ['left'],\n",
    "    ['left', 'A'],\n",
    "    ['left', 'B'],\n",
    "    ['left', 'A', 'B'],\n",
    "#    ['down'],\n",
    "#    ['up']\n",
    "]\n",
    "\n",
    "\n",
    "_env = gym_super_mario_bros.make('SuperMarioBros-v0')\n",
    "#_env = gym_super_mario_bros.SuperMarioBrosEnv(frames_per_step=1, rom_mode='rectangle')\n",
    "env = BinarySpaceToDiscreteSpaceEnv(_env, movements)\n",
    "env = DummyVecEnv([lambda: env])\n",
    "model = PPO2(policy=CnnPolicy, env=env, verbose=1)\n",
    "model.learn(total_timesteps=10000)\n",
    "\n",
    "obs = env.reset()\n",
    "\n",
    "while True:\n",
    "    action, _info = model.predict(obs)\n",
    "\n",
    "    obs, rewards, dones, info = env.step(action)\n",
    "    print(\"학습끝\")\n",
    "    print(rewards)\n",
    "    env.render()"
   ]
  },
  {
   "cell_type": "code",
   "execution_count": null,
   "metadata": {
    "collapsed": true
   },
   "outputs": [],
   "source": []
  }
 ],
 "metadata": {
  "kernelspec": {
   "display_name": "Python 3",
   "language": "python",
   "name": "python3"
  },
  "language_info": {
   "codemirror_mode": {
    "name": "ipython",
    "version": 3
   },
   "file_extension": ".py",
   "mimetype": "text/x-python",
   "name": "python",
   "nbconvert_exporter": "python",
   "pygments_lexer": "ipython3",
   "version": "3.5.1"
  }
 },
 "nbformat": 4,
 "nbformat_minor": 1
}
