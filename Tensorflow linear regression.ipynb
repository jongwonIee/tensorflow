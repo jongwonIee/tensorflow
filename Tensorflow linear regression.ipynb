{
 "cells": [
  {
   "cell_type": "code",
   "execution_count": 1,
   "metadata": {
    "collapsed": false
   },
   "outputs": [
    {
     "ename": "ImportError",
     "evalue": "Traceback (most recent call last):\n  File \"/usr/local/var/pyenv/versions/3.5.1/lib/python3.5/site-packages/tensorflow/python/pywrap_tensorflow.py\", line 41, in <module>\n    from tensorflow.python.pywrap_tensorflow_internal import *\n  File \"/usr/local/var/pyenv/versions/3.5.1/lib/python3.5/site-packages/tensorflow/python/pywrap_tensorflow_internal.py\", line 28, in <module>\n    _pywrap_tensorflow_internal = swig_import_helper()\n  File \"/usr/local/var/pyenv/versions/3.5.1/lib/python3.5/site-packages/tensorflow/python/pywrap_tensorflow_internal.py\", line 24, in swig_import_helper\n    _mod = imp.load_module('_pywrap_tensorflow_internal', fp, pathname, description)\n  File \"/usr/local/var/pyenv/versions/3.5.1/lib/python3.5/imp.py\", line 242, in load_module\n    return load_dynamic(name, filename, file)\n  File \"/usr/local/var/pyenv/versions/3.5.1/lib/python3.5/imp.py\", line 342, in load_dynamic\n    return _load(spec)\nImportError: dlopen(/usr/local/var/pyenv/versions/3.5.1/lib/python3.5/site-packages/tensorflow/python/_pywrap_tensorflow_internal.so, 10): Library not loaded: @rpath/libcublas.8.0.dylib\n  Referenced from: /usr/local/var/pyenv/versions/3.5.1/lib/python3.5/site-packages/tensorflow/python/_pywrap_tensorflow_internal.so\n  Reason: image not found\n\n\nFailed to load the native TensorFlow runtime.\n\nSee https://www.tensorflow.org/install/install_sources#common_installation_problems\n\nfor some common reasons and solutions.  Include the entire stack trace\nabove this error message when asking for help.",
     "output_type": "error",
     "traceback": [
      "\u001b[0;31m---------------------------------------------------------------------------\u001b[0m",
      "\u001b[0;31mImportError\u001b[0m                               Traceback (most recent call last)",
      "\u001b[0;32m/usr/local/var/pyenv/versions/3.5.1/lib/python3.5/site-packages/tensorflow/python/pywrap_tensorflow.py\u001b[0m in \u001b[0;36m<module>\u001b[0;34m()\u001b[0m\n\u001b[1;32m     40\u001b[0m     \u001b[0msys\u001b[0m\u001b[0;34m.\u001b[0m\u001b[0msetdlopenflags\u001b[0m\u001b[0;34m(\u001b[0m\u001b[0m_default_dlopen_flags\u001b[0m \u001b[0;34m|\u001b[0m \u001b[0mctypes\u001b[0m\u001b[0;34m.\u001b[0m\u001b[0mRTLD_GLOBAL\u001b[0m\u001b[0;34m)\u001b[0m\u001b[0;34m\u001b[0m\u001b[0m\n\u001b[0;32m---> 41\u001b[0;31m   \u001b[0;32mfrom\u001b[0m \u001b[0mtensorflow\u001b[0m\u001b[0;34m.\u001b[0m\u001b[0mpython\u001b[0m\u001b[0;34m.\u001b[0m\u001b[0mpywrap_tensorflow_internal\u001b[0m \u001b[0;32mimport\u001b[0m \u001b[0;34m*\u001b[0m\u001b[0;34m\u001b[0m\u001b[0m\n\u001b[0m\u001b[1;32m     42\u001b[0m   \u001b[0;32mfrom\u001b[0m \u001b[0mtensorflow\u001b[0m\u001b[0;34m.\u001b[0m\u001b[0mpython\u001b[0m\u001b[0;34m.\u001b[0m\u001b[0mpywrap_tensorflow_internal\u001b[0m \u001b[0;32mimport\u001b[0m \u001b[0m__version__\u001b[0m\u001b[0;34m\u001b[0m\u001b[0m\n",
      "\u001b[0;32m/usr/local/var/pyenv/versions/3.5.1/lib/python3.5/site-packages/tensorflow/python/pywrap_tensorflow_internal.py\u001b[0m in \u001b[0;36m<module>\u001b[0;34m()\u001b[0m\n\u001b[1;32m     27\u001b[0m             \u001b[0;32mreturn\u001b[0m \u001b[0m_mod\u001b[0m\u001b[0;34m\u001b[0m\u001b[0m\n\u001b[0;32m---> 28\u001b[0;31m     \u001b[0m_pywrap_tensorflow_internal\u001b[0m \u001b[0;34m=\u001b[0m \u001b[0mswig_import_helper\u001b[0m\u001b[0;34m(\u001b[0m\u001b[0;34m)\u001b[0m\u001b[0;34m\u001b[0m\u001b[0m\n\u001b[0m\u001b[1;32m     29\u001b[0m     \u001b[0;32mdel\u001b[0m \u001b[0mswig_import_helper\u001b[0m\u001b[0;34m\u001b[0m\u001b[0m\n",
      "\u001b[0;32m/usr/local/var/pyenv/versions/3.5.1/lib/python3.5/site-packages/tensorflow/python/pywrap_tensorflow_internal.py\u001b[0m in \u001b[0;36mswig_import_helper\u001b[0;34m()\u001b[0m\n\u001b[1;32m     23\u001b[0m             \u001b[0;32mtry\u001b[0m\u001b[0;34m:\u001b[0m\u001b[0;34m\u001b[0m\u001b[0m\n\u001b[0;32m---> 24\u001b[0;31m                 \u001b[0m_mod\u001b[0m \u001b[0;34m=\u001b[0m \u001b[0mimp\u001b[0m\u001b[0;34m.\u001b[0m\u001b[0mload_module\u001b[0m\u001b[0;34m(\u001b[0m\u001b[0;34m'_pywrap_tensorflow_internal'\u001b[0m\u001b[0;34m,\u001b[0m \u001b[0mfp\u001b[0m\u001b[0;34m,\u001b[0m \u001b[0mpathname\u001b[0m\u001b[0;34m,\u001b[0m \u001b[0mdescription\u001b[0m\u001b[0;34m)\u001b[0m\u001b[0;34m\u001b[0m\u001b[0m\n\u001b[0m\u001b[1;32m     25\u001b[0m             \u001b[0;32mfinally\u001b[0m\u001b[0;34m:\u001b[0m\u001b[0;34m\u001b[0m\u001b[0m\n",
      "\u001b[0;32m/usr/local/var/pyenv/versions/3.5.1/lib/python3.5/imp.py\u001b[0m in \u001b[0;36mload_module\u001b[0;34m(name, file, filename, details)\u001b[0m\n\u001b[1;32m    241\u001b[0m         \u001b[0;32melse\u001b[0m\u001b[0;34m:\u001b[0m\u001b[0;34m\u001b[0m\u001b[0m\n\u001b[0;32m--> 242\u001b[0;31m             \u001b[0;32mreturn\u001b[0m \u001b[0mload_dynamic\u001b[0m\u001b[0;34m(\u001b[0m\u001b[0mname\u001b[0m\u001b[0;34m,\u001b[0m \u001b[0mfilename\u001b[0m\u001b[0;34m,\u001b[0m \u001b[0mfile\u001b[0m\u001b[0;34m)\u001b[0m\u001b[0;34m\u001b[0m\u001b[0m\n\u001b[0m\u001b[1;32m    243\u001b[0m     \u001b[0;32melif\u001b[0m \u001b[0mtype_\u001b[0m \u001b[0;34m==\u001b[0m \u001b[0mPKG_DIRECTORY\u001b[0m\u001b[0;34m:\u001b[0m\u001b[0;34m\u001b[0m\u001b[0m\n",
      "\u001b[0;32m/usr/local/var/pyenv/versions/3.5.1/lib/python3.5/imp.py\u001b[0m in \u001b[0;36mload_dynamic\u001b[0;34m(name, path, file)\u001b[0m\n\u001b[1;32m    341\u001b[0m             name=name, loader=loader, origin=path)\n\u001b[0;32m--> 342\u001b[0;31m         \u001b[0;32mreturn\u001b[0m \u001b[0m_load\u001b[0m\u001b[0;34m(\u001b[0m\u001b[0mspec\u001b[0m\u001b[0;34m)\u001b[0m\u001b[0;34m\u001b[0m\u001b[0m\n\u001b[0m\u001b[1;32m    343\u001b[0m \u001b[0;34m\u001b[0m\u001b[0m\n",
      "\u001b[0;31mImportError\u001b[0m: dlopen(/usr/local/var/pyenv/versions/3.5.1/lib/python3.5/site-packages/tensorflow/python/_pywrap_tensorflow_internal.so, 10): Library not loaded: @rpath/libcublas.8.0.dylib\n  Referenced from: /usr/local/var/pyenv/versions/3.5.1/lib/python3.5/site-packages/tensorflow/python/_pywrap_tensorflow_internal.so\n  Reason: image not found",
      "\nDuring handling of the above exception, another exception occurred:\n",
      "\u001b[0;31mImportError\u001b[0m                               Traceback (most recent call last)",
      "\u001b[0;32m<ipython-input-1-41389fad42b5>\u001b[0m in \u001b[0;36m<module>\u001b[0;34m()\u001b[0m\n\u001b[0;32m----> 1\u001b[0;31m \u001b[0;32mimport\u001b[0m \u001b[0mtensorflow\u001b[0m \u001b[0;32mas\u001b[0m \u001b[0mtf\u001b[0m\u001b[0;34m\u001b[0m\u001b[0m\n\u001b[0m",
      "\u001b[0;32m/usr/local/var/pyenv/versions/3.5.1/lib/python3.5/site-packages/tensorflow/__init__.py\u001b[0m in \u001b[0;36m<module>\u001b[0;34m()\u001b[0m\n\u001b[1;32m     22\u001b[0m \u001b[0;34m\u001b[0m\u001b[0m\n\u001b[1;32m     23\u001b[0m \u001b[0;31m# pylint: disable=wildcard-import\u001b[0m\u001b[0;34m\u001b[0m\u001b[0;34m\u001b[0m\u001b[0m\n\u001b[0;32m---> 24\u001b[0;31m \u001b[0;32mfrom\u001b[0m \u001b[0mtensorflow\u001b[0m\u001b[0;34m.\u001b[0m\u001b[0mpython\u001b[0m \u001b[0;32mimport\u001b[0m \u001b[0;34m*\u001b[0m\u001b[0;34m\u001b[0m\u001b[0m\n\u001b[0m\u001b[1;32m     25\u001b[0m \u001b[0;31m# pylint: enable=wildcard-import\u001b[0m\u001b[0;34m\u001b[0m\u001b[0;34m\u001b[0m\u001b[0m\n\u001b[1;32m     26\u001b[0m \u001b[0;34m\u001b[0m\u001b[0m\n",
      "\u001b[0;32m/usr/local/var/pyenv/versions/3.5.1/lib/python3.5/site-packages/tensorflow/python/__init__.py\u001b[0m in \u001b[0;36m<module>\u001b[0;34m()\u001b[0m\n\u001b[1;32m     49\u001b[0m \u001b[0;32mimport\u001b[0m \u001b[0mnumpy\u001b[0m \u001b[0;32mas\u001b[0m \u001b[0mnp\u001b[0m\u001b[0;34m\u001b[0m\u001b[0m\n\u001b[1;32m     50\u001b[0m \u001b[0;34m\u001b[0m\u001b[0m\n\u001b[0;32m---> 51\u001b[0;31m \u001b[0;32mfrom\u001b[0m \u001b[0mtensorflow\u001b[0m\u001b[0;34m.\u001b[0m\u001b[0mpython\u001b[0m \u001b[0;32mimport\u001b[0m \u001b[0mpywrap_tensorflow\u001b[0m\u001b[0;34m\u001b[0m\u001b[0m\n\u001b[0m\u001b[1;32m     52\u001b[0m \u001b[0;34m\u001b[0m\u001b[0m\n\u001b[1;32m     53\u001b[0m \u001b[0;31m# Protocol buffers\u001b[0m\u001b[0;34m\u001b[0m\u001b[0;34m\u001b[0m\u001b[0m\n",
      "\u001b[0;32m/usr/local/var/pyenv/versions/3.5.1/lib/python3.5/site-packages/tensorflow/python/pywrap_tensorflow.py\u001b[0m in \u001b[0;36m<module>\u001b[0;34m()\u001b[0m\n\u001b[1;32m     50\u001b[0m \u001b[0;32mfor\u001b[0m \u001b[0msome\u001b[0m \u001b[0mcommon\u001b[0m \u001b[0mreasons\u001b[0m \u001b[0;32mand\u001b[0m \u001b[0msolutions\u001b[0m\u001b[0;34m.\u001b[0m  \u001b[0mInclude\u001b[0m \u001b[0mthe\u001b[0m \u001b[0mentire\u001b[0m \u001b[0mstack\u001b[0m \u001b[0mtrace\u001b[0m\u001b[0;34m\u001b[0m\u001b[0m\n\u001b[1;32m     51\u001b[0m above this error message when asking for help.\"\"\" % traceback.format_exc()\n\u001b[0;32m---> 52\u001b[0;31m   \u001b[0;32mraise\u001b[0m \u001b[0mImportError\u001b[0m\u001b[0;34m(\u001b[0m\u001b[0mmsg\u001b[0m\u001b[0;34m)\u001b[0m\u001b[0;34m\u001b[0m\u001b[0m\n\u001b[0m\u001b[1;32m     53\u001b[0m \u001b[0;34m\u001b[0m\u001b[0m\n\u001b[1;32m     54\u001b[0m \u001b[0;31m# pylint: enable=wildcard-import,g-import-not-at-top,unused-import,line-too-long\u001b[0m\u001b[0;34m\u001b[0m\u001b[0;34m\u001b[0m\u001b[0m\n",
      "\u001b[0;31mImportError\u001b[0m: Traceback (most recent call last):\n  File \"/usr/local/var/pyenv/versions/3.5.1/lib/python3.5/site-packages/tensorflow/python/pywrap_tensorflow.py\", line 41, in <module>\n    from tensorflow.python.pywrap_tensorflow_internal import *\n  File \"/usr/local/var/pyenv/versions/3.5.1/lib/python3.5/site-packages/tensorflow/python/pywrap_tensorflow_internal.py\", line 28, in <module>\n    _pywrap_tensorflow_internal = swig_import_helper()\n  File \"/usr/local/var/pyenv/versions/3.5.1/lib/python3.5/site-packages/tensorflow/python/pywrap_tensorflow_internal.py\", line 24, in swig_import_helper\n    _mod = imp.load_module('_pywrap_tensorflow_internal', fp, pathname, description)\n  File \"/usr/local/var/pyenv/versions/3.5.1/lib/python3.5/imp.py\", line 242, in load_module\n    return load_dynamic(name, filename, file)\n  File \"/usr/local/var/pyenv/versions/3.5.1/lib/python3.5/imp.py\", line 342, in load_dynamic\n    return _load(spec)\nImportError: dlopen(/usr/local/var/pyenv/versions/3.5.1/lib/python3.5/site-packages/tensorflow/python/_pywrap_tensorflow_internal.so, 10): Library not loaded: @rpath/libcublas.8.0.dylib\n  Referenced from: /usr/local/var/pyenv/versions/3.5.1/lib/python3.5/site-packages/tensorflow/python/_pywrap_tensorflow_internal.so\n  Reason: image not found\n\n\nFailed to load the native TensorFlow runtime.\n\nSee https://www.tensorflow.org/install/install_sources#common_installation_problems\n\nfor some common reasons and solutions.  Include the entire stack trace\nabove this error message when asking for help."
     ]
    }
   ],
   "source": [
    "import tensorflow as tf"
   ]
  },
  {
   "cell_type": "code",
   "execution_count": 2,
   "metadata": {
    "collapsed": true
   },
   "outputs": [],
   "source": [
    "import matplotlib.pyplot as plt"
   ]
  },
  {
   "cell_type": "code",
   "execution_count": null,
   "metadata": {
    "collapsed": true
   },
   "outputs": [],
   "source": []
  },
  {
   "cell_type": "code",
   "execution_count": 45,
   "metadata": {
    "collapsed": true
   },
   "outputs": [],
   "source": [
    "x_data = [4.0391, 1.3197, 9.5613, 0.5978, 3.5316, 0.1540, 1.6899, 7.3172, 4.5092, 2.9632]"
   ]
  },
  {
   "cell_type": "code",
   "execution_count": 46,
   "metadata": {
    "collapsed": true
   },
   "outputs": [],
   "source": [
    "y_data = [11.4215, 10.0112, 30.2991, 1.0625, 13.1776, -3.1976, 6.7367, 23.8550, 14.8951, 11.6137]"
   ]
  },
  {
   "cell_type": "code",
   "execution_count": 47,
   "metadata": {
    "collapsed": true
   },
   "outputs": [],
   "source": [
    "W = tf.Variable(tf.random_uniform([1], -5.0, 5.0))\n",
    "b = tf.Variable(tf.random_uniform([1], -5.0, 5.0))"
   ]
  },
  {
   "cell_type": "code",
   "execution_count": 48,
   "metadata": {
    "collapsed": true
   },
   "outputs": [],
   "source": [
    "X = tf.placeholder(tf.float32)\n",
    "Y = tf.placeholder(tf.float32)"
   ]
  },
  {
   "cell_type": "code",
   "execution_count": 49,
   "metadata": {
    "collapsed": false
   },
   "outputs": [],
   "source": [
    "hypothesis = W * X + b"
   ]
  },
  {
   "cell_type": "code",
   "execution_count": 50,
   "metadata": {
    "collapsed": false
   },
   "outputs": [],
   "source": [
    "cost = tf.reduce_mean(tf.square(hypothesis) - Y)"
   ]
  },
  {
   "cell_type": "code",
   "execution_count": 51,
   "metadata": {
    "collapsed": true
   },
   "outputs": [],
   "source": [
    "a = tf.Variable(0.01)"
   ]
  },
  {
   "cell_type": "code",
   "execution_count": 52,
   "metadata": {
    "collapsed": true
   },
   "outputs": [],
   "source": [
    "optimizer = tf.train.GradientDescentOptimizer(a)"
   ]
  },
  {
   "cell_type": "code",
   "execution_count": 53,
   "metadata": {
    "collapsed": true
   },
   "outputs": [],
   "source": [
    "train = optimizer.minimize(cost)"
   ]
  },
  {
   "cell_type": "code",
   "execution_count": null,
   "metadata": {
    "collapsed": true
   },
   "outputs": [],
   "source": []
  },
  {
   "cell_type": "code",
   "execution_count": 17,
   "metadata": {
    "collapsed": false
   },
   "outputs": [
    {
     "name": "stdout",
     "output_type": "stream",
     "text": [
      "WARNING:tensorflow:From /usr/local/var/pyenv/versions/3.5.1/lib/python3.5/site-packages/tensorflow/python/util/tf_should_use.py:170: initialize_all_variables (from tensorflow.python.ops.variables) is deprecated and will be removed after 2017-03-02.\n",
      "Instructions for updating:\n",
      "Use `tf.global_variables_initializer` instead.\n"
     ]
    }
   ],
   "source": [
    "init = tf.initialize_all_variables()"
   ]
  },
  {
   "cell_type": "code",
   "execution_count": 54,
   "metadata": {
    "collapsed": true
   },
   "outputs": [],
   "source": [
    "init = tf.global_variables_initializer()"
   ]
  },
  {
   "cell_type": "code",
   "execution_count": 55,
   "metadata": {
    "collapsed": true
   },
   "outputs": [],
   "source": [
    "sess = tf.Session()"
   ]
  },
  {
   "cell_type": "code",
   "execution_count": 56,
   "metadata": {
    "collapsed": true
   },
   "outputs": [],
   "source": [
    "sess.run(init)"
   ]
  },
  {
   "cell_type": "code",
   "execution_count": 57,
   "metadata": {
    "collapsed": false
   },
   "outputs": [
    {
     "name": "stdout",
     "output_type": "stream",
     "text": [
      "0\n",
      "0 3.0021 [ 1.36448264] [-4.87005663]\n",
      "20\n",
      "20 -4.94613 [ 0.74527705] [-4.26233196]\n",
      "40\n",
      "40 -6.78156 [ 0.64081788] [-3.66495252]\n",
      "60\n",
      "60 -8.13855 [ 0.55100513] [-3.15129709]\n",
      "80\n",
      "80 -9.14183 [ 0.47377986] [-2.70963216]\n",
      "100\n",
      "100 -9.88359 [ 0.40737799] [-2.3298676]\n",
      "120\n",
      "120 -10.432 [ 0.35028246] [-2.00332808]\n",
      "140\n",
      "140 -10.8375 [ 0.30118918] [-1.72255504]\n",
      "160\n",
      "160 -11.1372 [ 0.25897649] [-1.48113298]\n",
      "180\n",
      "180 -11.3589 [ 0.22267999] [-1.27354681]\n",
      "200\n",
      "200 -11.5227 [ 0.19147061] [-1.09505486]\n",
      "220\n",
      "220 -11.6439 [ 0.16463535] [-0.9415791]\n",
      "240\n",
      "240 -11.7334 [ 0.14156117] [-0.8096137]\n",
      "260\n",
      "260 -11.7997 [ 0.12172089] [-0.69614357]\n",
      "280\n",
      "280 -11.8486 [ 0.10466129] [-0.59857666]\n",
      "300\n",
      "300 -11.8848 [ 0.08999265] [-0.51468414]\n",
      "320\n",
      "320 -11.9116 [ 0.07737987] [-0.44254935]\n",
      "340\n",
      "340 -11.9314 [ 0.06653481] [-0.38052452]\n",
      "360\n",
      "360 -11.946 [ 0.05720973] [-0.32719272]\n",
      "380\n",
      "380 -11.9568 [ 0.0491916] [-0.28133556]\n",
      "400\n",
      "400 -11.9648 [ 0.04229723] [-0.24190542]\n",
      "420\n",
      "420 -11.9707 [ 0.03636912] [-0.20800152]\n",
      "440\n",
      "440 -11.9751 [ 0.03127186] [-0.17884938]\n",
      "460\n",
      "460 -11.9783 [ 0.026889] [-0.15378302]\n",
      "480\n",
      "480 -11.9807 [ 0.02312042] [-0.13222982]\n",
      "500\n",
      "500 -11.9825 [ 0.01988001] [-0.11369736]\n",
      "520\n",
      "520 -11.9838 [ 0.01709376] [-0.09776228]\n",
      "540\n",
      "540 -11.9847 [ 0.01469801] [-0.08406057]\n",
      "560\n",
      "560 -11.9855 [ 0.01263804] [-0.07227919]\n",
      "580\n",
      "580 -11.986 [ 0.01086677] [-0.06214902]\n",
      "600\n",
      "600 -11.9864 [ 0.00934376] [-0.05343862]\n",
      "620\n",
      "620 -11.9867 [ 0.0080342] [-0.04594901]\n",
      "640\n",
      "640 -11.9869 [ 0.00690817] [-0.03950909]\n",
      "660\n",
      "660 -11.987 [ 0.00593997] [-0.03397176]\n",
      "680\n",
      "680 -11.9871 [ 0.00510746] [-0.0292105]\n",
      "700\n",
      "700 -11.9872 [ 0.00439164] [-0.02511655]\n",
      "720\n",
      "720 -11.9873 [ 0.00377613] [-0.02159639]\n",
      "740\n",
      "740 -11.9873 [ 0.0032469] [-0.01856958]\n",
      "760\n",
      "760 -11.9874 [ 0.00279183] [-0.01596698]\n",
      "780\n",
      "780 -11.9874 [ 0.00240055] [-0.01372916]\n",
      "800\n",
      "800 -11.9874 [ 0.0020641] [-0.01180497]\n",
      "820\n",
      "820 -11.9874 [ 0.00177481] [-0.01015046]\n",
      "840\n",
      "840 -11.9874 [ 0.00152607] [-0.00872784]\n",
      "860\n",
      "860 -11.9875 [ 0.00131218] [-0.0075046]\n",
      "880\n",
      "880 -11.9875 [ 0.00112828] [-0.00645281]\n",
      "900\n",
      "900 -11.9875 [ 0.00097014] [-0.00554843]\n",
      "920\n",
      "920 -11.9875 [ 0.00083417] [-0.0047708]\n",
      "940\n",
      "940 -11.9875 [ 0.00071726] [-0.00410215]\n",
      "960\n",
      "960 -11.9875 [ 0.00061674] [-0.00352722]\n",
      "980\n",
      "980 -11.9875 [ 0.0005303] [-0.00303287]\n",
      "1000\n",
      "1000 -11.9875 [ 0.00045597] [-0.0026078]\n",
      "1020\n",
      "1020 -11.9875 [ 0.00039207] [-0.00224231]\n",
      "1040\n",
      "1040 -11.9875 [ 0.00033712] [-0.00192804]\n",
      "1060\n",
      "1060 -11.9875 [ 0.00028987] [-0.00165782]\n",
      "1080\n",
      "1080 -11.9875 [ 0.00024924] [-0.00142547]\n",
      "1100\n",
      "1100 -11.9875 [ 0.00021431] [-0.00122569]\n",
      "1120\n",
      "1120 -11.9875 [ 0.00018428] [-0.0010539]\n",
      "1140\n",
      "1140 -11.9875 [ 0.00015845] [-0.00090619]\n",
      "1160\n",
      "1160 -11.9875 [ 0.00013624] [-0.00077919]\n",
      "1180\n",
      "1180 -11.9875 [ 0.00011715] [-0.00066998]\n",
      "1200\n",
      "1200 -11.9875 [ 0.00010073] [-0.00057608]\n",
      "1220\n",
      "1220 -11.9875 [  8.66106420e-05] [-0.00049534]\n",
      "1240\n",
      "1240 -11.9875 [  7.44718636e-05] [-0.00042592]\n",
      "1260\n",
      "1260 -11.9875 [  6.40343787e-05] [-0.00036622]\n",
      "1280\n",
      "1280 -11.9875 [  5.50597324e-05] [-0.0003149]\n",
      "1300\n",
      "1300 -11.9875 [  4.73429282e-05] [-0.00027076]\n",
      "1320\n",
      "1320 -11.9875 [  4.07076514e-05] [-0.00023281]\n",
      "1340\n",
      "1340 -11.9875 [  3.50023329e-05] [-0.00020018]\n",
      "1360\n",
      "1360 -11.9875 [  3.00966349e-05] [-0.00017213]\n",
      "1380\n",
      "1380 -11.9875 [  2.58784858e-05] [-0.000148]\n",
      "1400\n",
      "1400 -11.9875 [  2.22515300e-05] [-0.00012726]\n",
      "1420\n",
      "1420 -11.9875 [  1.91329000e-05] [-0.00010942]\n",
      "1440\n",
      "1440 -11.9875 [  1.64513585e-05] [ -9.40882746e-05]\n",
      "1460\n",
      "1460 -11.9875 [  1.41456439e-05] [ -8.09014746e-05]\n",
      "1480\n",
      "1480 -11.9875 [  1.21630846e-05] [ -6.95628623e-05]\n",
      "1500\n",
      "1500 -11.9875 [  1.04583842e-05] [ -5.98133774e-05]\n",
      "1520\n",
      "1520 -11.9875 [  8.99260522e-06] [ -5.14303210e-05]\n",
      "1540\n",
      "1540 -11.9875 [  7.73226202e-06] [ -4.42221899e-05]\n",
      "1560\n",
      "1560 -11.9875 [  6.64855816e-06] [ -3.80242964e-05]\n",
      "1580\n",
      "1580 -11.9875 [  5.71673900e-06] [ -3.26950540e-05]\n",
      "1600\n",
      "1600 -11.9875 [  4.91551782e-06] [ -2.81127268e-05]\n",
      "1620\n",
      "1620 -11.9875 [  4.22659105e-06] [ -2.41726320e-05]\n",
      "1640\n",
      "1640 -11.9875 [  3.63421987e-06] [ -2.07847552e-05]\n",
      "1660\n",
      "1660 -11.9875 [  3.12487168e-06] [ -1.78717019e-05]\n",
      "1680\n",
      "1680 -11.9875 [  2.68690974e-06] [ -1.53669189e-05]\n",
      "1700\n",
      "1700 -11.9875 [  2.31033005e-06] [ -1.32131927e-05]\n",
      "1720\n",
      "1720 -11.9875 [  1.98652970e-06] [ -1.13613187e-05]\n",
      "1740\n",
      "1740 -11.9875 [  1.70811063e-06] [ -9.76899082e-06]\n",
      "1760\n",
      "1760 -11.9875 [  1.46871298e-06] [ -8.39983295e-06]\n",
      "1780\n",
      "1780 -11.9875 [  1.26286773e-06] [ -7.22256709e-06]\n",
      "1800\n",
      "1800 -11.9875 [  1.08587255e-06] [ -6.21029994e-06]\n",
      "1820\n",
      "1820 -11.9875 [  9.33683850e-07] [ -5.33990533e-06]\n",
      "1840\n",
      "1840 -11.9875 [  8.02824900e-07] [ -4.59149987e-06]\n",
      "1860\n",
      "1860 -11.9875 [  6.90306251e-07] [ -3.94798508e-06]\n",
      "1880\n",
      "1880 -11.9875 [  5.93557388e-07] [ -3.39466123e-06]\n",
      "1900\n",
      "1900 -11.9875 [  5.10368295e-07] [ -2.91888796e-06]\n",
      "1920\n",
      "1920 -11.9875 [  4.38838441e-07] [ -2.50979565e-06]\n",
      "1940\n",
      "1940 -11.9875 [  3.77333748e-07] [ -2.15803948e-06]\n",
      "1960\n",
      "1960 -11.9875 [  3.24449189e-07] [ -1.85558315e-06]\n",
      "1980\n",
      "1980 -11.9875 [  2.78976529e-07] [ -1.59551689e-06]\n",
      "2000\n",
      "2000 -11.9875 [  2.39877011e-07] [ -1.37189966e-06]\n"
     ]
    }
   ],
   "source": [
    "for step in range(2001):\n",
    "    sess.run(train, feed_dict = {X:x_data, Y:y_data})\n",
    "    if step % 20 == 0:\n",
    "        print (step)\n",
    "        print (step, sess.run(cost, feed_dict = {X:x_data, Y:y_data}), sess.run(W), sess.run(b)) "
   ]
  },
  {
   "cell_type": "code",
   "execution_count": 58,
   "metadata": {
    "collapsed": true
   },
   "outputs": [],
   "source": [
    "answer = sess.run(hypothesis, feed_dict={X:5})"
   ]
  },
  {
   "cell_type": "code",
   "execution_count": 60,
   "metadata": {
    "collapsed": false
   },
   "outputs": [
    {
     "name": "stdout",
     "output_type": "stream",
     "text": [
      "When X=5, hypothesis = [ -1.72514660e-07]\n"
     ]
    }
   ],
   "source": [
    "print ('When X=5, hypothesis = ' + str(answer))"
   ]
  },
  {
   "cell_type": "code",
   "execution_count": null,
   "metadata": {
    "collapsed": true
   },
   "outputs": [],
   "source": []
  },
  {
   "cell_type": "code",
   "execution_count": null,
   "metadata": {
    "collapsed": true
   },
   "outputs": [],
   "source": [
    "# Show the linear regression result"
   ]
  },
  {
   "cell_type": "code",
   "execution_count": 63,
   "metadata": {
    "collapsed": false
   },
   "outputs": [
    {
     "data": {
      "text/plain": [
       "<matplotlib.text.Text at 0x10c63d7f0>"
      ]
     },
     "execution_count": 63,
     "metadata": {},
     "output_type": "execute_result"
    }
   ],
   "source": [
    "plt.figure(1)\n",
    "plt.title('Linear Regression')\n",
    "plt.xlabel('x')\n",
    "plt.ylabel('y')"
   ]
  },
  {
   "cell_type": "code",
   "execution_count": 72,
   "metadata": {
    "collapsed": false
   },
   "outputs": [
    {
     "data": {
      "text/plain": [
       "[<matplotlib.lines.Line2D at 0x10c8ba550>]"
      ]
     },
     "execution_count": 72,
     "metadata": {},
     "output_type": "execute_result"
    }
   ],
   "source": [
    "plt.plot(x_data, y_data, 'ro')"
   ]
  },
  {
   "cell_type": "code",
   "execution_count": 73,
   "metadata": {
    "collapsed": false
   },
   "outputs": [
    {
     "data": {
      "text/plain": [
       "[<matplotlib.lines.Line2D at 0x10c6cae80>]"
      ]
     },
     "execution_count": 73,
     "metadata": {},
     "output_type": "execute_result"
    }
   ],
   "source": [
    "plt.plot(x_data, sess.run(W) * x_data + sess.run(b), 'b')"
   ]
  },
  {
   "cell_type": "code",
   "execution_count": 74,
   "metadata": {
    "collapsed": false
   },
   "outputs": [
    {
     "data": {
      "text/plain": [
       "[<matplotlib.lines.Line2D at 0x10c8c3048>]"
      ]
     },
     "execution_count": 74,
     "metadata": {},
     "output_type": "execute_result"
    }
   ],
   "source": [
    "plt.plot([5], answer, 'go')"
   ]
  },
  {
   "cell_type": "code",
   "execution_count": 75,
   "metadata": {
    "collapsed": false
   },
   "outputs": [
    {
     "data": {
      "image/png": "[encoded data removed]",
      "text/plain": [
       "<matplotlib.figure.Figure at 0x10c80a160>"
      ]
     },
     "metadata": {},
     "output_type": "display_data"
    }
   ],
   "source": [
    "plt.show()"
   ]
  },
  {
   "cell_type": "code",
   "execution_count": null,
   "metadata": {
    "collapsed": true
   },
   "outputs": [],
   "source": []
  }
 ],
 "metadata": {
  "kernelspec": {
   "display_name": "Python 3",
   "language": "python",
   "name": "python3"
  },
  "language_info": {
   "codemirror_mode": {
    "name": "ipython",
    "version": 3
   },
   "file_extension": ".py",
   "mimetype": "text/x-python",
   "name": "python",
   "nbconvert_exporter": "python",
   "pygments_lexer": "ipython3",
   "version": "3.5.1"
  }
 },
 "nbformat": 4,
 "nbformat_minor": 1
}
